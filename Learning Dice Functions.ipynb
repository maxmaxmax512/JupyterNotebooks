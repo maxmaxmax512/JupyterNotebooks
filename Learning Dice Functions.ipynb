{
 "cells": [
  {
   "cell_type": "code",
   "execution_count": 79,
   "metadata": {},
   "outputs": [
    {
     "name": "stdout",
     "output_type": "stream",
     "text": [
      "{1: 1730, 2: 1691, 3: 1602, 4: 1652, 5: 1646, 6: 1679}\n"
     ]
    }
   ],
   "source": [
    "import numpy as np\n",
    "\n",
    "def rolldice(x):\n",
    "    dice_tray=()\n",
    "    for i in range(x):\n",
    "        dice_tray=dice_tray+(np.random.randint(1,7),)\n",
    "    return dice_tray\n",
    "\n",
    "def order_dict(x):\n",
    "    keys=list(x.keys())\n",
    "    keys.sort()\n",
    "    sorted_dict = {}\n",
    "    for i in keys:\n",
    "        sorted_dict[i]=x[i]\n",
    "    return sorted_dict\n",
    "\n",
    "def countdice(x):\n",
    "    count = {}\n",
    "    for i in x:\n",
    "        if i in count.keys():\n",
    "            count[i]=count[i]+1\n",
    "        else:\n",
    "            count[i]=1\n",
    "    sorted_count=order_dict(count)\n",
    "    return sorted_count\n",
    "        \n",
    "dice_set=rolldice(10000)\n",
    "dice_count=countdice(dice_set)\n",
    "#print(dice_set)\n",
    "print(dice_count)"
   ]
  },
  {
   "cell_type": "code",
   "execution_count": 62,
   "metadata": {},
   "outputs": [
    {
     "name": "stdout",
     "output_type": "stream",
     "text": [
      "False True\n"
     ]
    }
   ],
   "source": [
    "print('a'>'b','b'>'a')"
   ]
  },
  {
   "cell_type": "code",
   "execution_count": null,
   "metadata": {},
   "outputs": [],
   "source": []
  }
 ],
 "metadata": {
  "kernelspec": {
   "display_name": "Python 3",
   "language": "python",
   "name": "python3"
  },
  "language_info": {
   "codemirror_mode": {
    "name": "ipython",
    "version": 3
   },
   "file_extension": ".py",
   "mimetype": "text/x-python",
   "name": "python",
   "nbconvert_exporter": "python",
   "pygments_lexer": "ipython3",
   "version": "3.8.3"
  }
 },
 "nbformat": 4,
 "nbformat_minor": 4
}
